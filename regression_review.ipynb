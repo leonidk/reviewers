{
 "cells": [
  {
   "cell_type": "code",
   "execution_count": 1,
   "metadata": {},
   "outputs": [],
   "source": [
    "import pandas as pd\n",
    "import numpy as np\n",
    "#import autograd\n",
    "import random"
   ]
  },
  {
   "cell_type": "code",
   "execution_count": 2,
   "metadata": {},
   "outputs": [],
   "source": [
    "df = pd.read_csv('nice_data.csv')"
   ]
  },
  {
   "cell_type": "code",
   "execution_count": 3,
   "metadata": {},
   "outputs": [],
   "source": [
    "subjects = list(df.subject.unique())\n",
    "reviewers = list(df.reviewer.unique())\n",
    "rm = df.score.mean()\n",
    "rs = df.score.std()\n",
    "\n",
    "n_sub = len(subjects)\n",
    "n_rev = len(reviewers)\n",
    "dataset = np.array(df)\n",
    "total_reviews = np.zeros(n_sub)\n",
    "num_reviews = np.zeros(n_sub)\n",
    "\n",
    "\n",
    "\n",
    "for i in range(dataset.shape[0]):\n",
    "    dataset[i,0] = subjects.index(dataset[i,0])\n",
    "    dataset[i,1] = reviewers.index(dataset[i,1])\n",
    "    #dataset[i,2] = (dataset[i,2]-rm)/rs\n",
    "    \n",
    "    # normalization step\n",
    "    total_reviews[dataset[i,0]] += dataset[i,2]\n",
    "    num_reviews[dataset[i,0]] += 1\n",
    "\n",
    "average_reviews = total_reviews/num_reviews\n",
    "np.random.shuffle(dataset)"
   ]
  },
  {
   "cell_type": "code",
   "execution_count": 4,
   "metadata": {},
   "outputs": [],
   "source": [
    "reviewer_means = np.zeros(n_rev)\n",
    "reviewer_std = np.zeros(n_rev)\n",
    "for idx,reviewer in enumerate(reviewers):\n",
    "    reviewer_means[idx] = df[df.reviewer == reviewer].score.mean()\n",
    "    reviewer_std[idx] = df[df.reviewer == reviewer].score.std()"
   ]
  },
  {
   "cell_type": "code",
   "execution_count": 5,
   "metadata": {},
   "outputs": [],
   "source": [
    "reviewer_biases = np.random.randn(n_rev)\n",
    "subject_scores = np.random.random(n_sub)\n",
    "reg_l2= 1/2\n",
    "lr = 1e-9\n",
    "num_iter = 5000\n",
    "x0 = np.hstack([reviewer_biases,subject_scores])"
   ]
  },
  {
   "cell_type": "code",
   "execution_count": 6,
   "metadata": {},
   "outputs": [
    {
     "data": {
      "text/plain": [
       "1781.39667125503"
      ]
     },
     "execution_count": 6,
     "metadata": {},
     "output_type": "execute_result"
    }
   ],
   "source": [
    "def loss(x):\n",
    "    res = 0\n",
    "    rb = x[:n_rev]\n",
    "    ss = x[n_rev:]\n",
    "    #d = dataset[np.random.randint(dataset.shape[0])]\n",
    "    #res = res + (d[2]-rb[d[1]]-ss[d[0]])**2 + reg_l2* (rb**2).sum()\n",
    "    for d in dataset:\n",
    "        res = res + (d[2]-rb[d[1]]-ss[d[0]])**2\n",
    "    res = res+ reg_l2* (rb**2).sum()\n",
    "    return res\n",
    "loss(x0)"
   ]
  },
  {
   "cell_type": "code",
   "execution_count": 7,
   "metadata": {},
   "outputs": [],
   "source": [
    "if False:\n",
    "    J = autograd.jacobian(loss)\n",
    "    x = x0\n",
    "    for i in range(50):\n",
    "        g = J(x)\n",
    "        l = loss(x)\n",
    "        x = x - lr * g\n",
    "        #x = x - lr/pow(i+1,0.5) * g\n",
    "        if (i % 2 == 0):\n",
    "            #print(l,sum([loss(x) for _ in range(100)]))\n",
    "            print(l)\n",
    "        if(i % 10 == 0):\n",
    "            lr = lr/4\n",
    "else:\n",
    "    import scipy.optimize as opt\n",
    "    res = opt.minimize(loss,x0)\n",
    "    x = res.x"
   ]
  },
  {
   "cell_type": "code",
   "execution_count": 8,
   "metadata": {},
   "outputs": [
    {
     "data": {
      "text/plain": [
       "      fun: 14.963057471861445\n",
       " hess_inv: array([[ 0.12758509,  0.07811312,  0.0691355 , ..., -0.06837197,\n",
       "        -0.06671721, -0.07297755],\n",
       "       [ 0.07811312,  0.15032326,  0.06421615, ..., -0.07027953,\n",
       "        -0.05622966, -0.05425778],\n",
       "       [ 0.0691355 ,  0.06421615,  0.224623  , ..., -0.16018604,\n",
       "        -0.05973798, -0.06066084],\n",
       "       ...,\n",
       "       [-0.06837197, -0.07027953, -0.16018604, ...,  0.99358092,\n",
       "         0.06999456,  0.06133914],\n",
       "       [-0.06671721, -0.05622966, -0.05973798, ...,  0.06999456,\n",
       "         1.01276348,  0.05946703],\n",
       "       [-0.07297755, -0.05425778, -0.06066084, ...,  0.06133914,\n",
       "         0.05946703,  1.01557393]])\n",
       "      jac: array([ 8.34465027e-07, -1.43051147e-06,  1.90734863e-06,  1.54972076e-06,\n",
       "       -2.38418579e-07,  1.19209290e-07,  2.38418579e-07,  9.53674316e-07,\n",
       "        2.38418579e-07,  1.43051147e-06, -4.76837158e-07,  4.76837158e-07,\n",
       "        0.00000000e+00, -3.57627869e-07,  1.19209290e-06,  2.38418579e-07,\n",
       "        1.90734863e-06,  2.02655792e-06,  4.76837158e-07,  1.43051147e-06,\n",
       "       -2.86102295e-06, -1.66893005e-06,  7.15255737e-07, -3.57627869e-07,\n",
       "       -1.78813934e-06, -2.38418579e-07, -2.14576721e-06,  1.31130219e-06,\n",
       "       -4.76837158e-07,  5.96046448e-07,  0.00000000e+00,  2.38418579e-07,\n",
       "       -1.90734863e-06, -1.19209290e-06,  2.38418579e-06,  1.43051147e-06,\n",
       "       -7.15255737e-07,  1.19209290e-06, -2.14576721e-06, -2.38418579e-07,\n",
       "        9.53674316e-07,  1.19209290e-06, -9.53674316e-07,  1.19209290e-06,\n",
       "        1.43051147e-06,  1.19209290e-07, -9.53674316e-07, -2.38418579e-06,\n",
       "        7.15255737e-07,  0.00000000e+00,  2.38418579e-07, -4.76837158e-07,\n",
       "        5.96046448e-07,  7.15255737e-07,  1.07288361e-06, -1.31130219e-06,\n",
       "        7.15255737e-07,  2.74181366e-06, -9.53674316e-07,  1.66893005e-06,\n",
       "       -1.19209290e-07,  7.15255737e-07, -7.15255737e-07,  9.53674316e-07,\n",
       "        1.19209290e-07,  3.45706940e-06,  4.76837158e-07, -9.53674316e-07,\n",
       "        1.43051147e-06,  2.38418579e-07,  0.00000000e+00,  7.15255737e-07,\n",
       "       -9.53674316e-07,  7.15255737e-07, -5.96046448e-07,  2.62260437e-06,\n",
       "        9.53674316e-07, -3.57627869e-07,  2.38418579e-07,  4.76837158e-07,\n",
       "        4.76837158e-07,  3.57627869e-07,  0.00000000e+00,  4.76837158e-07,\n",
       "       -1.78813934e-06,  7.15255737e-07, -1.19209290e-06,  3.57627869e-07,\n",
       "        2.38418579e-07,  3.09944153e-06, -1.43051147e-06, -4.76837158e-07,\n",
       "        1.19209290e-06,  1.90734863e-06, -2.14576721e-06,  9.53674316e-07,\n",
       "       -2.38418579e-07, -1.19209290e-06,  5.96046448e-07,  2.38418579e-07,\n",
       "       -4.76837158e-07, -3.33786011e-06,  1.43051147e-06,  7.15255737e-07,\n",
       "        9.53674316e-07, -9.53674316e-07, -9.53674316e-07,  4.76837158e-07,\n",
       "       -2.50339508e-06,  0.00000000e+00, -1.66893005e-06])\n",
       "  message: 'Optimization terminated successfully.'\n",
       "     nfev: 4972\n",
       "      nit: 37\n",
       "     njev: 44\n",
       "   status: 0\n",
       "  success: True\n",
       "        x: array([ 4.86433659e-02,  2.38650212e-01, -1.70438756e-02,  6.02675141e-02,\n",
       "       -1.53690950e-01, -3.07382274e-01, -3.87343735e-01, -3.07291272e-03,\n",
       "        1.23786001e-01,  4.25565226e-02,  3.78079796e-02,  2.45982653e-02,\n",
       "       -2.54707176e-01,  5.46931570e-01,  1.33543810e+00,  3.01040332e+00,\n",
       "        2.44130743e+00,  3.67240559e+00,  2.63009644e+00,  4.08082048e+00,\n",
       "        3.44665017e+00,  4.34313643e+00,  3.68842265e+00,  3.30278705e+00,\n",
       "        3.89218966e+00,  3.53012191e+00,  3.77324006e+00,  2.14193838e+00,\n",
       "        3.75957988e+00,  3.07291490e+00,  2.82013855e+00,  3.25858385e+00,\n",
       "        3.83681594e+00,  1.11829569e+00,  3.33813565e+00,  2.33135179e+00,\n",
       "        3.38160038e+00,  3.94119895e+00,  2.75614779e+00,  2.76275317e+00,\n",
       "        1.10844979e+00,  1.27811078e+00,  1.56900856e+00,  2.51580553e+00,\n",
       "        3.47886318e+00,  3.27386767e+00,  3.46445939e+00,  2.56801545e+00,\n",
       "        2.90919911e+00,  3.53690177e+00,  3.19929647e+00,  3.39543604e+00,\n",
       "        2.60782811e+00,  3.63834153e+00,  2.64542673e+00,  2.60856546e+00,\n",
       "        1.64564625e+00,  3.42263757e+00,  3.07259822e+00,  2.52892957e+00,\n",
       "        4.07683214e+00,  3.64365399e+00,  3.64365363e+00,  2.45375136e+00,\n",
       "        3.19197994e+00,  2.80379039e+00,  3.82046748e+00,  3.55883545e+00,\n",
       "        2.28306625e+00,  1.31059155e+00,  1.54995187e+00,  2.71116056e+00,\n",
       "        3.68363458e+00,  3.55836751e+00,  3.73444291e+00,  3.28701938e+00,\n",
       "        3.29240948e+00,  2.84377044e+00,  4.08384359e+00,  3.28838408e+00,\n",
       "        4.03984155e+00,  3.89988866e+00,  3.60845681e+00,  4.31333672e+00,\n",
       "        3.83681597e+00,  4.41146054e+00,  2.85158127e+00,  2.27876671e+00,\n",
       "        3.03756688e+00,  1.98299114e+00,  3.31588451e+00,  3.03756673e+00,\n",
       "        3.70061788e+00,  3.24972876e+00,  2.33031214e+00,  3.71663950e+00,\n",
       "        1.32311465e+00,  4.28394028e+00,  1.63834256e+00,  2.25718987e+00,\n",
       "        1.77114063e+00,  2.33316270e+00,  2.83183408e+00,  2.80695677e+00,\n",
       "        4.26566845e+00,  3.52665465e+00,  1.66652387e+00,  3.98112183e+00,\n",
       "        3.46445902e+00,  3.24349977e+00,  2.34341007e+00])"
      ]
     },
     "execution_count": 8,
     "metadata": {},
     "output_type": "execute_result"
    }
   ],
   "source": [
    "res"
   ]
  },
  {
   "cell_type": "code",
   "execution_count": 9,
   "metadata": {},
   "outputs": [],
   "source": [
    "reviewer_biases = x[:n_rev]\n",
    "subject_scores = x[n_rev:]"
   ]
  },
  {
   "cell_type": "code",
   "execution_count": 10,
   "metadata": {},
   "outputs": [
    {
     "data": {
      "text/plain": [
       "array([ 0.04864337,  0.23865021, -0.01704388,  0.06026751, -0.15369095,\n",
       "       -0.30738227, -0.38734374, -0.00307291,  0.123786  ,  0.04255652,\n",
       "        0.03780798,  0.02459827, -0.25470718,  0.54693157])"
      ]
     },
     "execution_count": 10,
     "metadata": {},
     "output_type": "execute_result"
    }
   ],
   "source": [
    "reviewer_biases"
   ]
  },
  {
   "cell_type": "code",
   "execution_count": 11,
   "metadata": {},
   "outputs": [
    {
     "name": "stdout",
     "output_type": "stream",
     "text": [
      "name\t\tbias\n",
      "frank\t\t-0.39\n",
      "pat\t\t-0.31\n",
      "trudy\t\t-0.25\n",
      "carol\t\t-0.15\n",
      "erin\t\t-0.02\n",
      "alice\t\t-0.00\n",
      "peggy\t\t0.02\n",
      "mallory\t\t0.04\n",
      "bob\t\t0.04\n",
      "craig\t\t0.05\n",
      "eve\t\t0.06\n",
      "vanna\t\t0.12\n",
      "dave\t\t0.24\n",
      "victor\t\t0.55\n"
     ]
    }
   ],
   "source": [
    "print('{}\\t\\t{}'.format('name','bias'))\n",
    "\n",
    "for i in np.argsort(reviewer_biases):\n",
    "    print('{}\\t\\t{:.2f}'.format(reviewers[i],reviewer_biases[i]))"
   ]
  },
  {
   "cell_type": "code",
   "execution_count": 12,
   "metadata": {},
   "outputs": [
    {
     "name": "stdout",
     "output_type": "stream",
     "text": [
      "name\t\tmean\tstd\n",
      "trudy\t\t2.37\t1.07\n",
      "mallory\t\t2.74\t1.12\n",
      "carol\t\t2.92\t0.83\n",
      "craig\t\t2.95\t0.93\n",
      "peggy\t\t2.99\t0.92\n",
      "alice\t\t3.03\t0.68\n",
      "eve\t\t3.08\t0.88\n",
      "pat\t\t3.09\t1.20\n",
      "bob\t\t3.13\t0.70\n",
      "frank\t\t3.14\t1.07\n",
      "dave\t\t3.17\t0.67\n",
      "victor\t\t3.49\t0.13\n",
      "vanna\t\t3.53\t0.71\n",
      "erin\t\t3.63\t0.43\n"
     ]
    }
   ],
   "source": [
    "print('{}\\t\\t{}\\t{}'.format('name','mean','std'))\n",
    "for i in np.argsort(reviewer_means):\n",
    "    print('{}\\t\\t{:.2f}\\t{:.2f}'.format(reviewers[i],reviewer_means[i],reviewer_std[i]))"
   ]
  },
  {
   "cell_type": "code",
   "execution_count": 13,
   "metadata": {},
   "outputs": [
    {
     "data": {
      "text/plain": [
       "array([1.3354381 , 3.01040332, 2.44130743, 3.67240559, 2.63009644,\n",
       "       4.08082048, 3.44665017, 4.34313643, 3.68842265, 3.30278705,\n",
       "       3.89218966, 3.53012191, 3.77324006, 2.14193838, 3.75957988,\n",
       "       3.0729149 , 2.82013855, 3.25858385, 3.83681594, 1.11829569,\n",
       "       3.33813565, 2.33135179, 3.38160038, 3.94119895, 2.75614779,\n",
       "       2.76275317, 1.10844979, 1.27811078, 1.56900856, 2.51580553,\n",
       "       3.47886318, 3.27386767, 3.46445939, 2.56801545, 2.90919911,\n",
       "       3.53690177, 3.19929647, 3.39543604, 2.60782811, 3.63834153,\n",
       "       2.64542673, 2.60856546, 1.64564625, 3.42263757, 3.07259822,\n",
       "       2.52892957, 4.07683214, 3.64365399, 3.64365363, 2.45375136,\n",
       "       3.19197994, 2.80379039, 3.82046748, 3.55883545, 2.28306625,\n",
       "       1.31059155, 1.54995187, 2.71116056, 3.68363458, 3.55836751,\n",
       "       3.73444291, 3.28701938, 3.29240948, 2.84377044, 4.08384359,\n",
       "       3.28838408, 4.03984155, 3.89988866, 3.60845681, 4.31333672,\n",
       "       3.83681597, 4.41146054, 2.85158127, 2.27876671, 3.03756688,\n",
       "       1.98299114, 3.31588451, 3.03756673, 3.70061788, 3.24972876,\n",
       "       2.33031214, 3.7166395 , 1.32311465, 4.28394028, 1.63834256,\n",
       "       2.25718987, 1.77114063, 2.3331627 , 2.83183408, 2.80695677,\n",
       "       4.26566845, 3.52665465, 1.66652387, 3.98112183, 3.46445902,\n",
       "       3.24349977, 2.34341007])"
      ]
     },
     "execution_count": 13,
     "metadata": {},
     "output_type": "execute_result"
    }
   ],
   "source": [
    "subject_scores"
   ]
  },
  {
   "cell_type": "code",
   "execution_count": 14,
   "metadata": {},
   "outputs": [
    {
     "data": {
      "text/plain": [
       "array([1.47908463, 3.02620304, 2.49576244, 3.82186393, 2.67257597,\n",
       "       3.73345717, 3.29142333, 4.39650791, 3.55664363, 3.24721995,\n",
       "       3.93237239, 3.35772841, 3.60084702, 2.00952523, 3.79976224,\n",
       "       3.02620304, 2.80518612, 3.20301657, 3.82186393, 1.06272878,\n",
       "       3.29142333, 2.16781336, 3.42403348, 3.77766055, 2.80518612,\n",
       "       2.80518612, 1.        , 1.16966095, 1.46055923, 2.40735567,\n",
       "       3.51244025, 3.15881319, 3.46823687, 2.62837259, 2.93779627,\n",
       "       3.55664363, 3.07040642, 3.42403348, 2.89359289, 3.9102707 ,\n",
       "       2.93779627, 2.80518612, 1.70010154, 3.46823687, 3.15881319,\n",
       "       2.67257597, 4.13128761, 3.68925378, 3.68925378, 2.53996582,\n",
       "       3.33562672, 2.8493895 , 3.86606732, 3.6450504 , 2.23054214,\n",
       "       1.25806771, 1.68157614, 2.8493895 , 3.82186393, 3.60084702,\n",
       "       3.86606732, 3.46823687, 3.42403348, 2.98199965, 3.95447408,\n",
       "       3.20301657, 3.95447408, 3.9102707 , 3.68925378, 4.39650791,\n",
       "       3.82186393, 4.39650791, 2.93779627, 2.31894891, 2.98199965,\n",
       "       1.87691508, 3.33562672, 2.98199965, 3.6450504 , 3.20301657,\n",
       "       2.27474552, 3.51244025, 1.37215246, 4.175491  , 1.52328801,\n",
       "       2.14213537, 1.78850831, 2.40735567, 2.71677935, 2.8493895 ,\n",
       "       4.30810115, 3.60084702, 1.70010154, 3.86606732, 3.46823687,\n",
       "       3.1146098 , 2.36315229])"
      ]
     },
     "execution_count": 14,
     "metadata": {},
     "output_type": "execute_result"
    }
   ],
   "source": [
    "average_reviews"
   ]
  },
  {
   "cell_type": "code",
   "execution_count": 16,
   "metadata": {},
   "outputs": [
    {
     "data": {
      "image/png": "[encoded data removed]",
      "text/plain": [
       "<Figure size 576x576 with 1 Axes>"
      ]
     },
     "metadata": {
      "needs_background": "light"
     },
     "output_type": "display_data"
    }
   ],
   "source": [
    "import matplotlib.pyplot as plt\n",
    "plt.figure(figsize=(8,8))\n",
    "#plt.scatter(average_reviews,subject_scores+(average_reviews.mean()-subject_scores.mean()))\n",
    "plt.scatter(average_reviews,subject_scores)\n",
    "plt.xlabel('average review')\n",
    "plt.ylabel('true review')\n",
    "maxv = max(abs(average_reviews).max(),abs(subject_scores).max())\n",
    "#plt.xlim(-maxv,maxv)\n",
    "#plt.ylim(-maxv,maxv)\n",
    "plt.grid(True)\n",
    "plt.show()"
   ]
  },
  {
   "cell_type": "code",
   "execution_count": null,
   "metadata": {},
   "outputs": [],
   "source": []
  },
  {
   "cell_type": "code",
   "execution_count": null,
   "metadata": {},
   "outputs": [],
   "source": []
  }
 ],
 "metadata": {
  "kernelspec": {
   "display_name": "Python 3",
   "language": "python",
   "name": "python3"
  },
  "language_info": {
   "codemirror_mode": {
    "name": "ipython",
    "version": 3
   },
   "file_extension": ".py",
   "mimetype": "text/x-python",
   "name": "python",
   "nbconvert_exporter": "python",
   "pygments_lexer": "ipython3",
   "version": "3.6.7"
  }
 },
 "nbformat": 4,
 "nbformat_minor": 2
}
